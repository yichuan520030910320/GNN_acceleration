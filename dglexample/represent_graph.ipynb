{
 "cells": [
  {
   "cell_type": "code",
   "execution_count": 1,
   "metadata": {},
   "outputs": [
    {
     "name": "stderr",
     "output_type": "stream",
     "text": [
      "/home/ycwang/miniconda3/envs/brt_env/lib/python3.10/site-packages/tqdm/auto.py:22: TqdmWarning: IProgress not found. Please update jupyter and ipywidgets. See https://ipywidgets.readthedocs.io/en/stable/user_install.html\n",
      "  from .autonotebook import tqdm as notebook_tqdm\n"
     ]
    }
   ],
   "source": [
    "import dgl\n",
    "import numpy as np\n",
    "import torch\n",
    "\n",
    "g = dgl.graph(([0, 0, 0, 0, 0], [1, 2, 3, 4, 5]), num_nodes=6)\n",
    "# Equivalently, PyTorch LongTensors also work.\n",
    "g = dgl.graph((torch.LongTensor([0, 0, 0, 0, 0]), torch.LongTensor([1, 2, 3, 4, 5])), num_nodes=6)\n",
    "\n",
    "# You can omit the number of nodes argument if you can tell the number of nodes from the edge list alone.\n",
    "g = dgl.graph(([0, 0, 0, 0, 0], [1, 2, 3, 4, 5]))"
   ]
  },
  {
   "cell_type": "code",
   "execution_count": 2,
   "metadata": {},
   "outputs": [
    {
     "name": "stdout",
     "output_type": "stream",
     "text": [
      "tensor([[ 1.1794, -1.0598,  0.0234,  0.0805],\n",
      "        [ 1.8347,  0.8655,  0.1255, -0.2687],\n",
      "        [ 0.6264, -1.5897, -0.1006, -0.8082],\n",
      "        [-1.7303, -0.4875, -0.2025,  1.2805],\n",
      "        [-0.7257, -0.9979,  0.7255,  0.6208]])\n"
     ]
    }
   ],
   "source": [
    "#assign attribute\n",
    "# Assign a 3-dimensional node feature vector for each node.\n",
    "g.ndata['x'] = torch.randn(6, 3)## 6 is the number of nodes\n",
    "# Assign a 4-dimensional edge feature vector for each edge.\n",
    "g.edata['a'] = torch.randn(5, 4)## 5 is the number of edges\n",
    "# Assign a 5x4 node feature matrix for each node.  Node and edge features in DGL can be multi-dimensional.\n",
    "g.ndata['y'] = torch.randn(6, 5, 4)\n",
    "\n",
    "print(g.edata['a'])"
   ]
  },
  {
   "cell_type": "code",
   "execution_count": null,
   "metadata": {},
   "outputs": [],
   "source": []
  },
  {
   "cell_type": "code",
   "execution_count": 4,
   "metadata": {},
   "outputs": [
    {
     "data": {
      "text/plain": [
       "Graph(num_nodes=6, num_edges=5,\n",
       "      ndata_schemes={'x': Scheme(shape=(3,), dtype=torch.float32), 'y': Scheme(shape=(5, 4), dtype=torch.float32)}\n",
       "      edata_schemes={'a': Scheme(shape=(4,), dtype=torch.float32)})"
      ]
     },
     "execution_count": 4,
     "metadata": {},
     "output_type": "execute_result"
    }
   ],
   "source": [
    "len(g.ndata)\n",
    "g"
   ]
  },
  {
   "cell_type": "code",
   "execution_count": 7,
   "metadata": {},
   "outputs": [
    {
     "data": {
      "text/plain": [
       "<bound method DGLHeteroGraph.out_degrees of Graph(num_nodes=6, num_edges=5,\n",
       "      ndata_schemes={'x': Scheme(shape=(3,), dtype=torch.float32), 'y': Scheme(shape=(5, 4), dtype=torch.float32)}\n",
       "      edata_schemes={'a': Scheme(shape=(4,), dtype=torch.float32)})>"
      ]
     },
     "execution_count": 7,
     "metadata": {},
     "output_type": "execute_result"
    }
   ],
   "source": [
    "g.out_degrees"
   ]
  },
  {
   "cell_type": "code",
   "execution_count": 8,
   "metadata": {},
   "outputs": [],
   "source": [
    "# Induce a subgraph from node 0, node 1 and node 3 from the original graph.\n",
    "sg1 = g.subgraph([0, 1, 3])\n",
    "# Induce a subgraph from edge 0, edge 1 and edge 3 from the original graph.\n",
    "sg2 = g.edge_subgraph([0, 1, 3])"
   ]
  },
  {
   "cell_type": "code",
   "execution_count": null,
   "metadata": {},
   "outputs": [],
   "source": [
    "print(g.num_nodes())\n",
    "print(g.num_edges())\n",
    "# Out degrees of the center node\n",
    "print(g.out_degrees(0))\n",
    "# In degrees of the center node - note that the graph is directed so the in degree should be 0.\n",
    "print(g.in_degrees(0))"
   ]
  },
  {
   "cell_type": "code",
   "execution_count": 11,
   "metadata": {},
   "outputs": [
    {
     "name": "stdout",
     "output_type": "stream",
     "text": [
      "Graph(num_nodes=6, num_edges=5,\n",
      "      ndata_schemes={'y': Scheme(shape=(5, 4), dtype=torch.float32), 'x': Scheme(shape=(3,), dtype=torch.float32)}\n",
      "      edata_schemes={'a': Scheme(shape=(4,), dtype=torch.float32)})\n",
      "Graph(num_nodes=6, num_edges=5,\n",
      "      ndata_schemes={'y': Scheme(shape=(5, 4), dtype=torch.float32), 'x': Scheme(shape=(3,), dtype=torch.float32)}\n",
      "      edata_schemes={'a': Scheme(shape=(4,), dtype=torch.float32)})\n",
      "Graph(num_nodes=3, num_edges=2,\n",
      "      ndata_schemes={'x': Scheme(shape=(3,), dtype=torch.float32), 'y': Scheme(shape=(5, 4), dtype=torch.float32), '_ID': Scheme(shape=(), dtype=torch.int64)}\n",
      "      edata_schemes={'a': Scheme(shape=(4,), dtype=torch.float32), '_ID': Scheme(shape=(), dtype=torch.int64)})\n",
      "Graph(num_nodes=4, num_edges=3,\n",
      "      ndata_schemes={'x': Scheme(shape=(3,), dtype=torch.float32), 'y': Scheme(shape=(5, 4), dtype=torch.float32), '_ID': Scheme(shape=(), dtype=torch.int64)}\n",
      "      edata_schemes={'a': Scheme(shape=(4,), dtype=torch.float32), '_ID': Scheme(shape=(), dtype=torch.int64)})\n",
      "{}\n"
     ]
    }
   ],
   "source": [
    "# Save graphs\n",
    "dgl.save_graphs('graph.dgl', g)\n",
    "dgl.save_graphs('graphs.dgl', [g, sg1, sg2])\n",
    "\n",
    "# Load graphs\n",
    "(g,), _ = dgl.load_graphs('graph.dgl')\n",
    "print(g)\n",
    "(g, sg1, sg2), p = dgl.load_graphs('graphs.dgl')\n",
    "print(g)\n",
    "print(sg1)\n",
    "print(sg2)\n",
    "print(p)"
   ]
  }
 ],
 "metadata": {
  "kernelspec": {
   "display_name": "brt_env",
   "language": "python",
   "name": "python3"
  },
  "language_info": {
   "codemirror_mode": {
    "name": "ipython",
    "version": 3
   },
   "file_extension": ".py",
   "mimetype": "text/x-python",
   "name": "python",
   "nbconvert_exporter": "python",
   "pygments_lexer": "ipython3",
   "version": "3.10.6 (main, Oct 24 2022, 16:07:47) [GCC 11.2.0]"
  },
  "orig_nbformat": 4,
  "vscode": {
   "interpreter": {
    "hash": "1ffc20edf0549fd7f79d2b78b336e5a238553ac407ce6895821e68280ec1a5e0"
   }
  }
 },
 "nbformat": 4,
 "nbformat_minor": 2
}
