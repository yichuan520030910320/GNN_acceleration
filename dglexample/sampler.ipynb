{
 "cells": [
  {
   "cell_type": "code",
   "execution_count": 4,
   "metadata": {},
   "outputs": [
    {
     "ename": "DGLError",
     "evalue": "[15:52:11] /opt/dgl/src/graph/transform/to_bipartite.cc:119: Check failed: new_dst.Ptr<IdType>()[i] != -1 (-1 vs. -1) : Node 2 does not exist in `rhs_nodes`. Argument `rhs_nodes` must contain all the edge destination nodes.\nStack trace:\n  [bt] (0) /home/ycwang/miniconda3/envs/brt_env/lib/python3.10/site-packages/dgl/libdgl.so(dmlc::LogMessageFatal::~LogMessageFatal()+0x4f) [0x7f0ed260ebff]\n  [bt] (1) /home/ycwang/miniconda3/envs/brt_env/lib/python3.10/site-packages/dgl/libdgl.so(+0x813111) [0x7f0ed2a88111]\n  [bt] (2) /home/ycwang/miniconda3/envs/brt_env/lib/python3.10/site-packages/dgl/libdgl.so(std::tuple<std::shared_ptr<dgl::BaseHeteroGraph>, std::vector<dgl::runtime::NDArray, std::allocator<dgl::runtime::NDArray> > > dgl::transform::ToBlock<(DLDeviceType)1, long>(std::shared_ptr<dgl::BaseHeteroGraph>, std::vector<dgl::runtime::NDArray, std::allocator<dgl::runtime::NDArray> > const&, bool, std::vector<dgl::runtime::NDArray, std::allocator<dgl::runtime::NDArray> >*)+0x3a) [0x7f0ed2a88eea]\n  [bt] (3) /home/ycwang/miniconda3/envs/brt_env/lib/python3.10/site-packages/dgl/libdgl.so(+0x8147c7) [0x7f0ed2a897c7]\n  [bt] (4) /home/ycwang/miniconda3/envs/brt_env/lib/python3.10/site-packages/dgl/libdgl.so(+0x8150c4) [0x7f0ed2a8a0c4]\n  [bt] (5) /home/ycwang/miniconda3/envs/brt_env/lib/python3.10/site-packages/dgl/libdgl.so(DGLFuncCall+0x48) [0x7f0ed2935138]\n  [bt] (6) /home/ycwang/miniconda3/envs/brt_env/lib/python3.10/site-packages/dgl/_ffi/_cy3/core.cpython-310-x86_64-linux-gnu.so(+0x15eb0) [0x7f0ed1b43eb0]\n  [bt] (7) /home/ycwang/miniconda3/envs/brt_env/lib/python3.10/site-packages/dgl/_ffi/_cy3/core.cpython-310-x86_64-linux-gnu.so(+0x1661b) [0x7f0ed1b4461b]\n  [bt] (8) /home/ycwang/miniconda3/envs/brt_env/bin/python(_PyObject_MakeTpCall+0x25b) [0x4f95eb]\n\n",
     "output_type": "error",
     "traceback": [
      "\u001b[0;31m---------------------------------------------------------------------------\u001b[0m",
      "\u001b[0;31mDGLError\u001b[0m                                  Traceback (most recent call last)",
      "Cell \u001b[0;32mIn [4], line 4\u001b[0m\n\u001b[1;32m      2\u001b[0m \u001b[39mimport\u001b[39;00m \u001b[39mtorch\u001b[39;00m\n\u001b[1;32m      3\u001b[0m g \u001b[39m=\u001b[39m dgl\u001b[39m.\u001b[39mgraph(([\u001b[39m1\u001b[39m, \u001b[39m2\u001b[39m], [\u001b[39m2\u001b[39m, \u001b[39m3\u001b[39m]))\n\u001b[0;32m----> 4\u001b[0m dgl\u001b[39m.\u001b[39;49mto_block(g, torch\u001b[39m.\u001b[39;49mLongTensor([\u001b[39m3\u001b[39;49m]))\n",
      "File \u001b[0;32m~/miniconda3/envs/brt_env/lib/python3.10/site-packages/dgl/transforms/functional.py:2399\u001b[0m, in \u001b[0;36mto_block\u001b[0;34m(g, dst_nodes, include_dst_in_src, src_nodes)\u001b[0m\n\u001b[1;32m   2395\u001b[0m \u001b[39melse\u001b[39;00m:\n\u001b[1;32m   2396\u001b[0m     \u001b[39m# use an empty list to signal we need to generate it\u001b[39;00m\n\u001b[1;32m   2397\u001b[0m     src_node_ids_nd \u001b[39m=\u001b[39m []\n\u001b[0;32m-> 2399\u001b[0m new_graph_index, src_nodes_ids_nd, induced_edges_nd \u001b[39m=\u001b[39m _CAPI_DGLToBlock(\n\u001b[1;32m   2400\u001b[0m     g\u001b[39m.\u001b[39;49m_graph, dst_node_ids_nd, include_dst_in_src, src_node_ids_nd)\n\u001b[1;32m   2402\u001b[0m \u001b[39m# The new graph duplicates the original node types to SRC and DST sets.\u001b[39;00m\n\u001b[1;32m   2403\u001b[0m new_ntypes \u001b[39m=\u001b[39m (g\u001b[39m.\u001b[39mntypes, g\u001b[39m.\u001b[39mntypes)\n",
      "File \u001b[0;32mdgl/_ffi/_cython/./function.pxi:293\u001b[0m, in \u001b[0;36mdgl._ffi._cy3.core.FunctionBase.__call__\u001b[0;34m()\u001b[0m\n",
      "File \u001b[0;32mdgl/_ffi/_cython/./function.pxi:239\u001b[0m, in \u001b[0;36mdgl._ffi._cy3.core.FuncCall\u001b[0;34m()\u001b[0m\n",
      "\u001b[0;31mDGLError\u001b[0m: [15:52:11] /opt/dgl/src/graph/transform/to_bipartite.cc:119: Check failed: new_dst.Ptr<IdType>()[i] != -1 (-1 vs. -1) : Node 2 does not exist in `rhs_nodes`. Argument `rhs_nodes` must contain all the edge destination nodes.\nStack trace:\n  [bt] (0) /home/ycwang/miniconda3/envs/brt_env/lib/python3.10/site-packages/dgl/libdgl.so(dmlc::LogMessageFatal::~LogMessageFatal()+0x4f) [0x7f0ed260ebff]\n  [bt] (1) /home/ycwang/miniconda3/envs/brt_env/lib/python3.10/site-packages/dgl/libdgl.so(+0x813111) [0x7f0ed2a88111]\n  [bt] (2) /home/ycwang/miniconda3/envs/brt_env/lib/python3.10/site-packages/dgl/libdgl.so(std::tuple<std::shared_ptr<dgl::BaseHeteroGraph>, std::vector<dgl::runtime::NDArray, std::allocator<dgl::runtime::NDArray> > > dgl::transform::ToBlock<(DLDeviceType)1, long>(std::shared_ptr<dgl::BaseHeteroGraph>, std::vector<dgl::runtime::NDArray, std::allocator<dgl::runtime::NDArray> > const&, bool, std::vector<dgl::runtime::NDArray, std::allocator<dgl::runtime::NDArray> >*)+0x3a) [0x7f0ed2a88eea]\n  [bt] (3) /home/ycwang/miniconda3/envs/brt_env/lib/python3.10/site-packages/dgl/libdgl.so(+0x8147c7) [0x7f0ed2a897c7]\n  [bt] (4) /home/ycwang/miniconda3/envs/brt_env/lib/python3.10/site-packages/dgl/libdgl.so(+0x8150c4) [0x7f0ed2a8a0c4]\n  [bt] (5) /home/ycwang/miniconda3/envs/brt_env/lib/python3.10/site-packages/dgl/libdgl.so(DGLFuncCall+0x48) [0x7f0ed2935138]\n  [bt] (6) /home/ycwang/miniconda3/envs/brt_env/lib/python3.10/site-packages/dgl/_ffi/_cy3/core.cpython-310-x86_64-linux-gnu.so(+0x15eb0) [0x7f0ed1b43eb0]\n  [bt] (7) /home/ycwang/miniconda3/envs/brt_env/lib/python3.10/site-packages/dgl/_ffi/_cy3/core.cpython-310-x86_64-linux-gnu.so(+0x1661b) [0x7f0ed1b4461b]\n  [bt] (8) /home/ycwang/miniconda3/envs/brt_env/bin/python(_PyObject_MakeTpCall+0x25b) [0x4f95eb]\n\n"
     ]
    }
   ],
   "source": [
    "import dgl\n",
    "import torch\n",
    "g = dgl.graph(([1, 2], [2, 3]))\n",
    "dgl.to_block(g, torch.LongTensor([3])) "
   ]
  }
 ],
 "metadata": {
  "kernelspec": {
   "display_name": "brt_env",
   "language": "python",
   "name": "python3"
  },
  "language_info": {
   "codemirror_mode": {
    "name": "ipython",
    "version": 3
   },
   "file_extension": ".py",
   "mimetype": "text/x-python",
   "name": "python",
   "nbconvert_exporter": "python",
   "pygments_lexer": "ipython3",
   "version": "3.10.6 (main, Oct 24 2022, 16:07:47) [GCC 11.2.0]"
  },
  "orig_nbformat": 4,
  "vscode": {
   "interpreter": {
    "hash": "1ffc20edf0549fd7f79d2b78b336e5a238553ac407ce6895821e68280ec1a5e0"
   }
  }
 },
 "nbformat": 4,
 "nbformat_minor": 2
}
