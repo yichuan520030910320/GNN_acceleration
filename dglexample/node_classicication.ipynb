{
 "cells": [
  {
   "cell_type": "code",
   "execution_count": 1,
   "metadata": {},
   "outputs": [
    {
     "name": "stderr",
     "output_type": "stream",
     "text": [
      "/home/ycwang/miniconda3/envs/brt_env/lib/python3.10/site-packages/tqdm/auto.py:22: TqdmWarning: IProgress not found. Please update jupyter and ipywidgets. See https://ipywidgets.readthedocs.io/en/stable/user_install.html\n",
      "  from .autonotebook import tqdm as notebook_tqdm\n"
     ]
    },
    {
     "data": {
      "text/plain": [
       "Graph(num_nodes=5, num_edges=8,\n",
       "      ndata_schemes={}\n",
       "      edata_schemes={})"
      ]
     },
     "execution_count": 1,
     "metadata": {},
     "output_type": "execute_result"
    }
   ],
   "source": [
    "import dgl\n",
    "import torch as th\n",
    "import scipy.sparse as sp\n",
    "spmat = sp.rand(100, 100, density=0.05) # 5%非零项\n",
    "dgl.from_scipy(spmat)                   # 来自SciPy\n",
    "import networkx as nx\n",
    "nx_g = nx.path_graph(5) # 一条链路0-1-2-3-4\n",
    "dgl.from_networkx(nx_g) # 来自NetworkX"
   ]
  },
  {
   "cell_type": "code",
   "execution_count": 2,
   "metadata": {},
   "outputs": [],
   "source": [
    "import dgl\n",
    "import torch\n",
    "import torch.nn as nn\n",
    "import torch.nn.functional as F"
   ]
  },
  {
   "cell_type": "code",
   "execution_count": 3,
   "metadata": {},
   "outputs": [
    {
     "name": "stdout",
     "output_type": "stream",
     "text": [
      "  NumNodes: 2708\n",
      "  NumEdges: 10556\n",
      "  NumFeats: 1433\n",
      "  NumClasses: 7\n",
      "  NumTrainingSamples: 140\n",
      "  NumValidationSamples: 500\n",
      "  NumTestSamples: 1000\n",
      "Done loading data from cached files.\n",
      "Number of categories: 7\n"
     ]
    }
   ],
   "source": [
    "import dgl.data\n",
    "\n",
    "dataset = dgl.data.CoraGraphDataset()\n",
    "print('Number of categories:', dataset.num_classes)"
   ]
  },
  {
   "cell_type": "code",
   "execution_count": 4,
   "metadata": {},
   "outputs": [
    {
     "name": "stdout",
     "output_type": "stream",
     "text": [
      "Dataset(\"cora_v2\", num_graphs=1, save_path=/home/ycwang/.dgl/cora_v2)\n",
      "1\n",
      "Graph(num_nodes=2708, num_edges=10556,\n",
      "      ndata_schemes={'feat': Scheme(shape=(1433,), dtype=torch.float32), 'label': Scheme(shape=(), dtype=torch.int64), 'test_mask': Scheme(shape=(), dtype=torch.bool), 'val_mask': Scheme(shape=(), dtype=torch.bool), 'train_mask': Scheme(shape=(), dtype=torch.bool)}\n",
      "      edata_schemes={})\n"
     ]
    }
   ],
   "source": [
    "g = dataset[0]\n",
    "print(dataset)\n",
    "print(len(dataset))\n",
    "print(g)"
   ]
  },
  {
   "cell_type": "code",
   "execution_count": null,
   "metadata": {},
   "outputs": [],
   "source": []
  },
  {
   "cell_type": "code",
   "execution_count": 5,
   "metadata": {},
   "outputs": [
    {
     "name": "stdout",
     "output_type": "stream",
     "text": [
      "Node features\n",
      "{'feat': tensor([[0., 0., 0.,  ..., 0., 0., 0.],\n",
      "        [0., 0., 0.,  ..., 0., 0., 0.],\n",
      "        [0., 0., 0.,  ..., 0., 0., 0.],\n",
      "        ...,\n",
      "        [0., 0., 0.,  ..., 0., 0., 0.],\n",
      "        [0., 0., 0.,  ..., 0., 0., 0.],\n",
      "        [0., 0., 0.,  ..., 0., 0., 0.]]), 'label': tensor([3, 4, 4,  ..., 3, 3, 3]), 'test_mask': tensor([False, False, False,  ...,  True,  True,  True]), 'val_mask': tensor([False, False, False,  ..., False, False, False]), 'train_mask': tensor([ True,  True,  True,  ..., False, False, False])}\n",
      "tensor([3, 4, 4,  ..., 3, 3, 3])\n",
      "2708\n",
      "Edge features\n",
      "{}\n"
     ]
    }
   ],
   "source": [
    "print('Node features')\n",
    "print(g.ndata)\n",
    "print(g.ndata['label'])\n",
    "print(len(g.ndata['label']))\n",
    "print('Edge features')\n",
    "print(g.edata)"
   ]
  },
  {
   "cell_type": "code",
   "execution_count": 6,
   "metadata": {},
   "outputs": [
    {
     "name": "stdout",
     "output_type": "stream",
     "text": [
      "torch.Size([2708, 1433])\n"
     ]
    }
   ],
   "source": [
    "print(g.ndata['feat'].shape)"
   ]
  },
  {
   "cell_type": "code",
   "execution_count": 7,
   "metadata": {},
   "outputs": [],
   "source": [
    "from dgl.nn import GraphConv\n",
    "\n",
    "class GCN(nn.Module):\n",
    "    def __init__(self, in_feats, h_feats, num_classes):\n",
    "        super(GCN, self).__init__()\n",
    "        self.conv1 = GraphConv(in_feats, h_feats)\n",
    "        self.conv2 = GraphConv(h_feats, num_classes)\n",
    "\n",
    "    def forward(self, g, in_feat):\n",
    "        h = self.conv1(g, in_feat)\n",
    "        # print(h.shape)\n",
    "        h = F.relu(h)\n",
    "        # print(h.shape)\n",
    "        h = self.conv2(g, h)\n",
    "        # print(h.shape)\n",
    "        return h\n",
    "\n",
    "# Create the model with given dimensions\n",
    "model = GCN(g.ndata['feat'].shape[1], 16, dataset.num_classes)"
   ]
  },
  {
   "cell_type": "code",
   "execution_count": 8,
   "metadata": {},
   "outputs": [
    {
     "data": {
      "text/plain": [
       "1433"
      ]
     },
     "execution_count": 8,
     "metadata": {},
     "output_type": "execute_result"
    }
   ],
   "source": [
    "g.ndata['feat'].shape[1]"
   ]
  },
  {
   "cell_type": "code",
   "execution_count": 9,
   "metadata": {},
   "outputs": [
    {
     "name": "stdout",
     "output_type": "stream",
     "text": [
      "labels  tensor([3, 4, 4,  ..., 3, 3, 3])\n",
      "In epoch 0, loss: 1.946, val acc: 0.128 (best 0.128), test acc: 0.142 (best 0.142)\n",
      "In epoch 5, loss: 1.893, val acc: 0.586 (best 0.586), test acc: 0.620 (best 0.620)\n",
      "In epoch 10, loss: 1.812, val acc: 0.612 (best 0.612), test acc: 0.653 (best 0.653)\n",
      "In epoch 15, loss: 1.705, val acc: 0.640 (best 0.640), test acc: 0.672 (best 0.672)\n",
      "In epoch 20, loss: 1.574, val acc: 0.662 (best 0.662), test acc: 0.701 (best 0.701)\n",
      "In epoch 25, loss: 1.421, val acc: 0.690 (best 0.690), test acc: 0.703 (best 0.703)\n",
      "In epoch 30, loss: 1.252, val acc: 0.702 (best 0.702), test acc: 0.716 (best 0.716)\n",
      "In epoch 35, loss: 1.076, val acc: 0.718 (best 0.720), test acc: 0.732 (best 0.726)\n",
      "In epoch 40, loss: 0.903, val acc: 0.726 (best 0.726), test acc: 0.747 (best 0.747)\n",
      "In epoch 45, loss: 0.743, val acc: 0.734 (best 0.734), test acc: 0.752 (best 0.752)\n",
      "In epoch 50, loss: 0.602, val acc: 0.738 (best 0.738), test acc: 0.758 (best 0.757)\n",
      "In epoch 55, loss: 0.484, val acc: 0.758 (best 0.758), test acc: 0.764 (best 0.764)\n",
      "In epoch 60, loss: 0.389, val acc: 0.760 (best 0.760), test acc: 0.766 (best 0.764)\n",
      "In epoch 65, loss: 0.314, val acc: 0.762 (best 0.762), test acc: 0.769 (best 0.768)\n",
      "In epoch 70, loss: 0.255, val acc: 0.764 (best 0.766), test acc: 0.771 (best 0.770)\n",
      "In epoch 75, loss: 0.209, val acc: 0.762 (best 0.766), test acc: 0.770 (best 0.770)\n",
      "In epoch 80, loss: 0.173, val acc: 0.764 (best 0.766), test acc: 0.770 (best 0.770)\n",
      "In epoch 85, loss: 0.145, val acc: 0.764 (best 0.766), test acc: 0.770 (best 0.770)\n",
      "In epoch 90, loss: 0.123, val acc: 0.764 (best 0.766), test acc: 0.771 (best 0.770)\n",
      "In epoch 95, loss: 0.105, val acc: 0.760 (best 0.766), test acc: 0.768 (best 0.770)\n",
      "In epoch 100, loss: 0.091, val acc: 0.762 (best 0.766), test acc: 0.769 (best 0.770)\n",
      "In epoch 105, loss: 0.080, val acc: 0.764 (best 0.766), test acc: 0.767 (best 0.770)\n",
      "In epoch 110, loss: 0.070, val acc: 0.764 (best 0.766), test acc: 0.768 (best 0.770)\n",
      "In epoch 115, loss: 0.062, val acc: 0.764 (best 0.766), test acc: 0.765 (best 0.770)\n",
      "In epoch 120, loss: 0.056, val acc: 0.768 (best 0.768), test acc: 0.764 (best 0.764)\n",
      "In epoch 125, loss: 0.050, val acc: 0.768 (best 0.768), test acc: 0.763 (best 0.764)\n",
      "In epoch 130, loss: 0.045, val acc: 0.764 (best 0.768), test acc: 0.762 (best 0.764)\n",
      "In epoch 135, loss: 0.041, val acc: 0.764 (best 0.768), test acc: 0.762 (best 0.764)\n",
      "In epoch 140, loss: 0.038, val acc: 0.766 (best 0.768), test acc: 0.762 (best 0.764)\n",
      "In epoch 145, loss: 0.035, val acc: 0.764 (best 0.768), test acc: 0.758 (best 0.764)\n",
      "In epoch 150, loss: 0.032, val acc: 0.766 (best 0.768), test acc: 0.758 (best 0.764)\n",
      "In epoch 155, loss: 0.030, val acc: 0.764 (best 0.768), test acc: 0.758 (best 0.764)\n",
      "In epoch 160, loss: 0.028, val acc: 0.764 (best 0.768), test acc: 0.758 (best 0.764)\n",
      "In epoch 165, loss: 0.026, val acc: 0.764 (best 0.768), test acc: 0.758 (best 0.764)\n",
      "In epoch 170, loss: 0.024, val acc: 0.762 (best 0.768), test acc: 0.758 (best 0.764)\n",
      "In epoch 175, loss: 0.022, val acc: 0.762 (best 0.768), test acc: 0.759 (best 0.764)\n",
      "In epoch 180, loss: 0.021, val acc: 0.762 (best 0.768), test acc: 0.759 (best 0.764)\n",
      "In epoch 185, loss: 0.020, val acc: 0.762 (best 0.768), test acc: 0.761 (best 0.764)\n",
      "In epoch 190, loss: 0.019, val acc: 0.762 (best 0.768), test acc: 0.760 (best 0.764)\n",
      "In epoch 195, loss: 0.018, val acc: 0.764 (best 0.768), test acc: 0.759 (best 0.764)\n",
      "In epoch 200, loss: 0.017, val acc: 0.764 (best 0.768), test acc: 0.759 (best 0.764)\n",
      "In epoch 205, loss: 0.016, val acc: 0.764 (best 0.768), test acc: 0.759 (best 0.764)\n",
      "In epoch 210, loss: 0.015, val acc: 0.766 (best 0.768), test acc: 0.760 (best 0.764)\n",
      "In epoch 215, loss: 0.014, val acc: 0.766 (best 0.768), test acc: 0.759 (best 0.764)\n",
      "In epoch 220, loss: 0.014, val acc: 0.766 (best 0.768), test acc: 0.757 (best 0.764)\n",
      "In epoch 225, loss: 0.013, val acc: 0.766 (best 0.768), test acc: 0.756 (best 0.764)\n",
      "In epoch 230, loss: 0.012, val acc: 0.766 (best 0.768), test acc: 0.757 (best 0.764)\n",
      "In epoch 235, loss: 0.012, val acc: 0.766 (best 0.768), test acc: 0.757 (best 0.764)\n",
      "In epoch 240, loss: 0.011, val acc: 0.766 (best 0.768), test acc: 0.757 (best 0.764)\n",
      "In epoch 245, loss: 0.011, val acc: 0.766 (best 0.768), test acc: 0.757 (best 0.764)\n",
      "In epoch 250, loss: 0.010, val acc: 0.764 (best 0.768), test acc: 0.756 (best 0.764)\n",
      "In epoch 255, loss: 0.010, val acc: 0.764 (best 0.768), test acc: 0.756 (best 0.764)\n",
      "In epoch 260, loss: 0.010, val acc: 0.764 (best 0.768), test acc: 0.756 (best 0.764)\n",
      "In epoch 265, loss: 0.009, val acc: 0.762 (best 0.768), test acc: 0.756 (best 0.764)\n",
      "In epoch 270, loss: 0.009, val acc: 0.762 (best 0.768), test acc: 0.756 (best 0.764)\n",
      "In epoch 275, loss: 0.009, val acc: 0.762 (best 0.768), test acc: 0.756 (best 0.764)\n",
      "In epoch 280, loss: 0.008, val acc: 0.762 (best 0.768), test acc: 0.756 (best 0.764)\n",
      "In epoch 285, loss: 0.008, val acc: 0.762 (best 0.768), test acc: 0.756 (best 0.764)\n",
      "In epoch 290, loss: 0.008, val acc: 0.762 (best 0.768), test acc: 0.756 (best 0.764)\n",
      "In epoch 295, loss: 0.007, val acc: 0.762 (best 0.768), test acc: 0.756 (best 0.764)\n",
      "In epoch 300, loss: 0.007, val acc: 0.760 (best 0.768), test acc: 0.756 (best 0.764)\n",
      "In epoch 305, loss: 0.007, val acc: 0.760 (best 0.768), test acc: 0.756 (best 0.764)\n",
      "In epoch 310, loss: 0.007, val acc: 0.760 (best 0.768), test acc: 0.756 (best 0.764)\n",
      "In epoch 315, loss: 0.006, val acc: 0.760 (best 0.768), test acc: 0.755 (best 0.764)\n",
      "In epoch 320, loss: 0.006, val acc: 0.760 (best 0.768), test acc: 0.755 (best 0.764)\n",
      "In epoch 325, loss: 0.006, val acc: 0.762 (best 0.768), test acc: 0.755 (best 0.764)\n",
      "In epoch 330, loss: 0.006, val acc: 0.762 (best 0.768), test acc: 0.755 (best 0.764)\n",
      "In epoch 335, loss: 0.006, val acc: 0.762 (best 0.768), test acc: 0.755 (best 0.764)\n",
      "In epoch 340, loss: 0.006, val acc: 0.762 (best 0.768), test acc: 0.755 (best 0.764)\n",
      "In epoch 345, loss: 0.005, val acc: 0.764 (best 0.768), test acc: 0.756 (best 0.764)\n",
      "In epoch 350, loss: 0.005, val acc: 0.764 (best 0.768), test acc: 0.756 (best 0.764)\n",
      "In epoch 355, loss: 0.005, val acc: 0.764 (best 0.768), test acc: 0.754 (best 0.764)\n",
      "In epoch 360, loss: 0.005, val acc: 0.764 (best 0.768), test acc: 0.754 (best 0.764)\n",
      "In epoch 365, loss: 0.005, val acc: 0.762 (best 0.768), test acc: 0.754 (best 0.764)\n",
      "In epoch 370, loss: 0.005, val acc: 0.762 (best 0.768), test acc: 0.754 (best 0.764)\n",
      "In epoch 375, loss: 0.005, val acc: 0.762 (best 0.768), test acc: 0.754 (best 0.764)\n",
      "In epoch 380, loss: 0.004, val acc: 0.762 (best 0.768), test acc: 0.755 (best 0.764)\n",
      "In epoch 385, loss: 0.004, val acc: 0.762 (best 0.768), test acc: 0.755 (best 0.764)\n",
      "In epoch 390, loss: 0.004, val acc: 0.762 (best 0.768), test acc: 0.755 (best 0.764)\n",
      "In epoch 395, loss: 0.004, val acc: 0.762 (best 0.768), test acc: 0.755 (best 0.764)\n",
      "In epoch 400, loss: 0.004, val acc: 0.762 (best 0.768), test acc: 0.755 (best 0.764)\n",
      "In epoch 405, loss: 0.004, val acc: 0.762 (best 0.768), test acc: 0.756 (best 0.764)\n",
      "In epoch 410, loss: 0.004, val acc: 0.762 (best 0.768), test acc: 0.755 (best 0.764)\n",
      "In epoch 415, loss: 0.004, val acc: 0.762 (best 0.768), test acc: 0.755 (best 0.764)\n",
      "In epoch 420, loss: 0.004, val acc: 0.762 (best 0.768), test acc: 0.755 (best 0.764)\n",
      "In epoch 425, loss: 0.004, val acc: 0.762 (best 0.768), test acc: 0.755 (best 0.764)\n",
      "In epoch 430, loss: 0.004, val acc: 0.764 (best 0.768), test acc: 0.755 (best 0.764)\n",
      "In epoch 435, loss: 0.003, val acc: 0.764 (best 0.768), test acc: 0.755 (best 0.764)\n",
      "In epoch 440, loss: 0.003, val acc: 0.764 (best 0.768), test acc: 0.755 (best 0.764)\n",
      "In epoch 445, loss: 0.003, val acc: 0.764 (best 0.768), test acc: 0.756 (best 0.764)\n",
      "In epoch 450, loss: 0.003, val acc: 0.764 (best 0.768), test acc: 0.756 (best 0.764)\n",
      "In epoch 455, loss: 0.003, val acc: 0.764 (best 0.768), test acc: 0.756 (best 0.764)\n",
      "In epoch 460, loss: 0.003, val acc: 0.764 (best 0.768), test acc: 0.756 (best 0.764)\n",
      "In epoch 465, loss: 0.003, val acc: 0.764 (best 0.768), test acc: 0.756 (best 0.764)\n",
      "In epoch 470, loss: 0.003, val acc: 0.764 (best 0.768), test acc: 0.756 (best 0.764)\n",
      "In epoch 475, loss: 0.003, val acc: 0.764 (best 0.768), test acc: 0.756 (best 0.764)\n",
      "In epoch 480, loss: 0.003, val acc: 0.764 (best 0.768), test acc: 0.756 (best 0.764)\n",
      "In epoch 485, loss: 0.003, val acc: 0.764 (best 0.768), test acc: 0.756 (best 0.764)\n",
      "In epoch 490, loss: 0.003, val acc: 0.762 (best 0.768), test acc: 0.756 (best 0.764)\n",
      "In epoch 495, loss: 0.003, val acc: 0.762 (best 0.768), test acc: 0.756 (best 0.764)\n",
      "In epoch 500, loss: 0.003, val acc: 0.762 (best 0.768), test acc: 0.756 (best 0.764)\n",
      "In epoch 505, loss: 0.003, val acc: 0.762 (best 0.768), test acc: 0.756 (best 0.764)\n",
      "In epoch 510, loss: 0.003, val acc: 0.762 (best 0.768), test acc: 0.757 (best 0.764)\n",
      "In epoch 515, loss: 0.002, val acc: 0.762 (best 0.768), test acc: 0.757 (best 0.764)\n",
      "In epoch 520, loss: 0.002, val acc: 0.764 (best 0.768), test acc: 0.757 (best 0.764)\n",
      "In epoch 525, loss: 0.002, val acc: 0.764 (best 0.768), test acc: 0.757 (best 0.764)\n",
      "In epoch 530, loss: 0.002, val acc: 0.764 (best 0.768), test acc: 0.757 (best 0.764)\n",
      "In epoch 535, loss: 0.002, val acc: 0.764 (best 0.768), test acc: 0.756 (best 0.764)\n",
      "In epoch 540, loss: 0.002, val acc: 0.764 (best 0.768), test acc: 0.756 (best 0.764)\n",
      "In epoch 545, loss: 0.002, val acc: 0.764 (best 0.768), test acc: 0.756 (best 0.764)\n",
      "In epoch 550, loss: 0.002, val acc: 0.764 (best 0.768), test acc: 0.756 (best 0.764)\n",
      "In epoch 555, loss: 0.002, val acc: 0.762 (best 0.768), test acc: 0.756 (best 0.764)\n",
      "In epoch 560, loss: 0.002, val acc: 0.762 (best 0.768), test acc: 0.756 (best 0.764)\n",
      "In epoch 565, loss: 0.002, val acc: 0.762 (best 0.768), test acc: 0.757 (best 0.764)\n",
      "In epoch 570, loss: 0.002, val acc: 0.762 (best 0.768), test acc: 0.757 (best 0.764)\n",
      "In epoch 575, loss: 0.002, val acc: 0.762 (best 0.768), test acc: 0.757 (best 0.764)\n",
      "In epoch 580, loss: 0.002, val acc: 0.762 (best 0.768), test acc: 0.756 (best 0.764)\n",
      "In epoch 585, loss: 0.002, val acc: 0.762 (best 0.768), test acc: 0.756 (best 0.764)\n",
      "In epoch 590, loss: 0.002, val acc: 0.762 (best 0.768), test acc: 0.756 (best 0.764)\n",
      "In epoch 595, loss: 0.002, val acc: 0.764 (best 0.768), test acc: 0.757 (best 0.764)\n",
      "In epoch 600, loss: 0.002, val acc: 0.764 (best 0.768), test acc: 0.757 (best 0.764)\n",
      "In epoch 605, loss: 0.002, val acc: 0.764 (best 0.768), test acc: 0.757 (best 0.764)\n",
      "In epoch 610, loss: 0.002, val acc: 0.764 (best 0.768), test acc: 0.757 (best 0.764)\n",
      "In epoch 615, loss: 0.002, val acc: 0.764 (best 0.768), test acc: 0.757 (best 0.764)\n",
      "In epoch 620, loss: 0.002, val acc: 0.764 (best 0.768), test acc: 0.757 (best 0.764)\n",
      "In epoch 625, loss: 0.002, val acc: 0.764 (best 0.768), test acc: 0.757 (best 0.764)\n",
      "In epoch 630, loss: 0.002, val acc: 0.764 (best 0.768), test acc: 0.757 (best 0.764)\n",
      "In epoch 635, loss: 0.002, val acc: 0.764 (best 0.768), test acc: 0.757 (best 0.764)\n",
      "In epoch 640, loss: 0.002, val acc: 0.764 (best 0.768), test acc: 0.757 (best 0.764)\n",
      "In epoch 645, loss: 0.002, val acc: 0.764 (best 0.768), test acc: 0.757 (best 0.764)\n",
      "In epoch 650, loss: 0.002, val acc: 0.764 (best 0.768), test acc: 0.757 (best 0.764)\n",
      "In epoch 655, loss: 0.002, val acc: 0.764 (best 0.768), test acc: 0.757 (best 0.764)\n",
      "In epoch 660, loss: 0.002, val acc: 0.764 (best 0.768), test acc: 0.757 (best 0.764)\n",
      "In epoch 665, loss: 0.002, val acc: 0.764 (best 0.768), test acc: 0.757 (best 0.764)\n",
      "In epoch 670, loss: 0.001, val acc: 0.764 (best 0.768), test acc: 0.757 (best 0.764)\n",
      "In epoch 675, loss: 0.001, val acc: 0.764 (best 0.768), test acc: 0.757 (best 0.764)\n",
      "In epoch 680, loss: 0.001, val acc: 0.764 (best 0.768), test acc: 0.757 (best 0.764)\n",
      "In epoch 685, loss: 0.001, val acc: 0.764 (best 0.768), test acc: 0.756 (best 0.764)\n",
      "In epoch 690, loss: 0.001, val acc: 0.764 (best 0.768), test acc: 0.756 (best 0.764)\n",
      "In epoch 695, loss: 0.001, val acc: 0.764 (best 0.768), test acc: 0.756 (best 0.764)\n",
      "In epoch 700, loss: 0.001, val acc: 0.764 (best 0.768), test acc: 0.756 (best 0.764)\n",
      "In epoch 705, loss: 0.001, val acc: 0.764 (best 0.768), test acc: 0.756 (best 0.764)\n",
      "In epoch 710, loss: 0.001, val acc: 0.764 (best 0.768), test acc: 0.756 (best 0.764)\n",
      "In epoch 715, loss: 0.001, val acc: 0.764 (best 0.768), test acc: 0.756 (best 0.764)\n",
      "In epoch 720, loss: 0.001, val acc: 0.762 (best 0.768), test acc: 0.756 (best 0.764)\n",
      "In epoch 725, loss: 0.001, val acc: 0.762 (best 0.768), test acc: 0.756 (best 0.764)\n",
      "In epoch 730, loss: 0.001, val acc: 0.762 (best 0.768), test acc: 0.756 (best 0.764)\n",
      "In epoch 735, loss: 0.001, val acc: 0.762 (best 0.768), test acc: 0.756 (best 0.764)\n",
      "In epoch 740, loss: 0.001, val acc: 0.762 (best 0.768), test acc: 0.756 (best 0.764)\n",
      "In epoch 745, loss: 0.001, val acc: 0.762 (best 0.768), test acc: 0.756 (best 0.764)\n",
      "In epoch 750, loss: 0.001, val acc: 0.762 (best 0.768), test acc: 0.756 (best 0.764)\n",
      "In epoch 755, loss: 0.001, val acc: 0.762 (best 0.768), test acc: 0.756 (best 0.764)\n",
      "In epoch 760, loss: 0.001, val acc: 0.762 (best 0.768), test acc: 0.756 (best 0.764)\n",
      "In epoch 765, loss: 0.001, val acc: 0.762 (best 0.768), test acc: 0.756 (best 0.764)\n",
      "In epoch 770, loss: 0.001, val acc: 0.762 (best 0.768), test acc: 0.756 (best 0.764)\n",
      "In epoch 775, loss: 0.001, val acc: 0.762 (best 0.768), test acc: 0.756 (best 0.764)\n",
      "In epoch 780, loss: 0.001, val acc: 0.762 (best 0.768), test acc: 0.756 (best 0.764)\n",
      "In epoch 785, loss: 0.001, val acc: 0.762 (best 0.768), test acc: 0.756 (best 0.764)\n",
      "In epoch 790, loss: 0.001, val acc: 0.762 (best 0.768), test acc: 0.756 (best 0.764)\n",
      "In epoch 795, loss: 0.001, val acc: 0.762 (best 0.768), test acc: 0.756 (best 0.764)\n",
      "In epoch 800, loss: 0.001, val acc: 0.762 (best 0.768), test acc: 0.756 (best 0.764)\n",
      "In epoch 805, loss: 0.001, val acc: 0.762 (best 0.768), test acc: 0.756 (best 0.764)\n",
      "In epoch 810, loss: 0.001, val acc: 0.762 (best 0.768), test acc: 0.756 (best 0.764)\n",
      "In epoch 815, loss: 0.001, val acc: 0.762 (best 0.768), test acc: 0.756 (best 0.764)\n",
      "In epoch 820, loss: 0.001, val acc: 0.762 (best 0.768), test acc: 0.756 (best 0.764)\n",
      "In epoch 825, loss: 0.001, val acc: 0.762 (best 0.768), test acc: 0.756 (best 0.764)\n",
      "In epoch 830, loss: 0.001, val acc: 0.762 (best 0.768), test acc: 0.756 (best 0.764)\n",
      "In epoch 835, loss: 0.001, val acc: 0.762 (best 0.768), test acc: 0.756 (best 0.764)\n",
      "In epoch 840, loss: 0.001, val acc: 0.762 (best 0.768), test acc: 0.756 (best 0.764)\n",
      "In epoch 845, loss: 0.001, val acc: 0.762 (best 0.768), test acc: 0.756 (best 0.764)\n",
      "In epoch 850, loss: 0.001, val acc: 0.762 (best 0.768), test acc: 0.756 (best 0.764)\n",
      "In epoch 855, loss: 0.001, val acc: 0.762 (best 0.768), test acc: 0.756 (best 0.764)\n",
      "In epoch 860, loss: 0.001, val acc: 0.762 (best 0.768), test acc: 0.756 (best 0.764)\n",
      "In epoch 865, loss: 0.001, val acc: 0.762 (best 0.768), test acc: 0.756 (best 0.764)\n",
      "In epoch 870, loss: 0.001, val acc: 0.762 (best 0.768), test acc: 0.756 (best 0.764)\n",
      "In epoch 875, loss: 0.001, val acc: 0.762 (best 0.768), test acc: 0.756 (best 0.764)\n",
      "In epoch 880, loss: 0.001, val acc: 0.762 (best 0.768), test acc: 0.756 (best 0.764)\n",
      "In epoch 885, loss: 0.001, val acc: 0.762 (best 0.768), test acc: 0.756 (best 0.764)\n",
      "In epoch 890, loss: 0.001, val acc: 0.762 (best 0.768), test acc: 0.756 (best 0.764)\n",
      "In epoch 895, loss: 0.001, val acc: 0.762 (best 0.768), test acc: 0.756 (best 0.764)\n",
      "In epoch 900, loss: 0.001, val acc: 0.762 (best 0.768), test acc: 0.756 (best 0.764)\n",
      "In epoch 905, loss: 0.001, val acc: 0.762 (best 0.768), test acc: 0.756 (best 0.764)\n",
      "In epoch 910, loss: 0.001, val acc: 0.762 (best 0.768), test acc: 0.756 (best 0.764)\n",
      "In epoch 915, loss: 0.001, val acc: 0.762 (best 0.768), test acc: 0.756 (best 0.764)\n",
      "In epoch 920, loss: 0.001, val acc: 0.762 (best 0.768), test acc: 0.756 (best 0.764)\n",
      "In epoch 925, loss: 0.001, val acc: 0.762 (best 0.768), test acc: 0.756 (best 0.764)\n",
      "In epoch 930, loss: 0.001, val acc: 0.762 (best 0.768), test acc: 0.756 (best 0.764)\n",
      "In epoch 935, loss: 0.001, val acc: 0.762 (best 0.768), test acc: 0.756 (best 0.764)\n",
      "In epoch 940, loss: 0.001, val acc: 0.762 (best 0.768), test acc: 0.756 (best 0.764)\n",
      "In epoch 945, loss: 0.001, val acc: 0.762 (best 0.768), test acc: 0.756 (best 0.764)\n",
      "In epoch 950, loss: 0.001, val acc: 0.762 (best 0.768), test acc: 0.756 (best 0.764)\n",
      "In epoch 955, loss: 0.001, val acc: 0.762 (best 0.768), test acc: 0.756 (best 0.764)\n",
      "In epoch 960, loss: 0.001, val acc: 0.762 (best 0.768), test acc: 0.756 (best 0.764)\n",
      "In epoch 965, loss: 0.001, val acc: 0.762 (best 0.768), test acc: 0.756 (best 0.764)\n",
      "In epoch 970, loss: 0.001, val acc: 0.762 (best 0.768), test acc: 0.756 (best 0.764)\n",
      "In epoch 975, loss: 0.001, val acc: 0.762 (best 0.768), test acc: 0.756 (best 0.764)\n",
      "In epoch 980, loss: 0.001, val acc: 0.762 (best 0.768), test acc: 0.756 (best 0.764)\n",
      "In epoch 985, loss: 0.001, val acc: 0.762 (best 0.768), test acc: 0.756 (best 0.764)\n",
      "In epoch 990, loss: 0.001, val acc: 0.762 (best 0.768), test acc: 0.756 (best 0.764)\n",
      "In epoch 995, loss: 0.001, val acc: 0.762 (best 0.768), test acc: 0.756 (best 0.764)\n"
     ]
    }
   ],
   "source": [
    "def train(g, model):\n",
    "    optimizer = torch.optim.Adam(model.parameters(), lr=0.01)\n",
    "    best_val_acc = 0\n",
    "    best_test_acc = 0\n",
    "\n",
    "    features = g.ndata['feat']\n",
    "    labels = g.ndata['label']\n",
    "    train_mask = g.ndata['train_mask']\n",
    "    val_mask = g.ndata['val_mask']\n",
    "    test_mask = g.ndata['test_mask']\n",
    "    print('labels ',labels)\n",
    "    for e in range(1000):\n",
    "        # Forward\n",
    "        logits = model(g, features)\n",
    "\n",
    "        # Compute prediction\n",
    "        pred = logits.argmax(1)\n",
    "\n",
    "        # Compute loss\n",
    "        # Note that you should only compute the losses of the nodes in the training set.\n",
    "        loss = F.cross_entropy(logits[train_mask], labels[train_mask])\n",
    "\n",
    "        # Compute accuracy on training/validation/test\n",
    "        train_acc = (pred[train_mask] == labels[train_mask]).float().mean()\n",
    "        val_acc = (pred[val_mask] == labels[val_mask]).float().mean()\n",
    "        test_acc = (pred[test_mask] == labels[test_mask]).float().mean()\n",
    "\n",
    "        # Save the best validation accuracy and the corresponding test accuracy.\n",
    "        if best_val_acc < val_acc:\n",
    "            best_val_acc = val_acc\n",
    "            best_test_acc = test_acc\n",
    "\n",
    "        # Backward\n",
    "        optimizer.zero_grad()\n",
    "        loss.backward()\n",
    "        optimizer.step()\n",
    "\n",
    "        if e % 5 == 0:\n",
    "            print('In epoch {}, loss: {:.3f}, val acc: {:.3f} (best {:.3f}), test acc: {:.3f} (best {:.3f})'.format(\n",
    "                e, loss, val_acc, best_val_acc, test_acc, best_test_acc))\n",
    "model = GCN(g.ndata['feat'].shape[1], 16, dataset.num_classes)\n",
    "train(g, model)"
   ]
  },
  {
   "cell_type": "code",
   "execution_count": null,
   "metadata": {},
   "outputs": [],
   "source": []
  },
  {
   "cell_type": "code",
   "execution_count": null,
   "metadata": {},
   "outputs": [],
   "source": []
  },
  {
   "cell_type": "code",
   "execution_count": null,
   "metadata": {},
   "outputs": [],
   "source": []
  },
  {
   "cell_type": "code",
   "execution_count": null,
   "metadata": {},
   "outputs": [],
   "source": []
  },
  {
   "cell_type": "code",
   "execution_count": null,
   "metadata": {},
   "outputs": [],
   "source": []
  },
  {
   "cell_type": "code",
   "execution_count": null,
   "metadata": {},
   "outputs": [],
   "source": []
  }
 ],
 "metadata": {
  "kernelspec": {
   "display_name": "brt_env",
   "language": "python",
   "name": "python3"
  },
  "language_info": {
   "codemirror_mode": {
    "name": "ipython",
    "version": 3
   },
   "file_extension": ".py",
   "mimetype": "text/x-python",
   "name": "python",
   "nbconvert_exporter": "python",
   "pygments_lexer": "ipython3",
   "version": "3.10.6 (main, Oct 24 2022, 16:07:47) [GCC 11.2.0]"
  },
  "orig_nbformat": 4,
  "vscode": {
   "interpreter": {
    "hash": "1ffc20edf0549fd7f79d2b78b336e5a238553ac407ce6895821e68280ec1a5e0"
   }
  }
 },
 "nbformat": 4,
 "nbformat_minor": 2
}
